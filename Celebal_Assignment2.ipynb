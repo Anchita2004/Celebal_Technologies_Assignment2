{
  "nbformat": 4,
  "nbformat_minor": 0,
  "metadata": {
    "colab": {
      "provenance": [],
      "authorship_tag": "ABX9TyN6vDBQNLBpFaFkayqRfGqB",
      "include_colab_link": true
    },
    "kernelspec": {
      "name": "python3",
      "display_name": "Python 3"
    },
    "language_info": {
      "name": "python"
    }
  },
  "cells": [
    {
      "cell_type": "markdown",
      "metadata": {
        "id": "view-in-github",
        "colab_type": "text"
      },
      "source": [
        "<a href=\"https://colab.research.google.com/github/Anchita2004/Celebal_Technologies_Assignment2/blob/main/Celebal_Assignment2.ipynb\" target=\"_parent\"><img src=\"https://colab.research.google.com/assets/colab-badge.svg\" alt=\"Open In Colab\"/></a>"
      ]
    },
    {
      "cell_type": "code",
      "execution_count": null,
      "metadata": {
        "colab": {
          "base_uri": "https://localhost:8080/"
        },
        "id": "qFnvw1ALq6Zl",
        "outputId": "aa3c9f98-6206-45c9-a96a-e112bcbcdab9"
      },
      "outputs": [
        {
          "output_type": "stream",
          "name": "stdout",
          "text": [
            "Added head node with data: 10\n",
            "Added node with data: 20\n",
            "Added node with data: 30\n",
            "Added node with data: 40\n",
            "Linked List: 10 -> 20 -> 30 -> 40 -> None\n",
            "Deleted node at position 3 with data: 30\n",
            "Linked List: 10 -> 20 -> 40 -> None\n",
            "Exception: Index out of range.\n",
            "Exception: Cannot delete from an empty list.\n"
          ]
        }
      ],
      "source": [
        "class Node:\n",
        "    \"\"\"Class representing a node in a singly linked list.\"\"\"\n",
        "    def __init__(self, data):\n",
        "        self.data = data\n",
        "        self.next = None\n",
        "\n",
        "\n",
        "class LinkedList:\n",
        "    \"\"\"Class representing the singly linked list.\"\"\"\n",
        "    def __init__(self):\n",
        "        self.head = None\n",
        "\n",
        "    def add_node(self, data):\n",
        "        \"\"\"Add a node with the given data to the end of the list.\"\"\"\n",
        "        new_node = Node(data)\n",
        "        if not self.head:\n",
        "            self.head = new_node\n",
        "            print(f\"Added head node with data: {data}\")\n",
        "        else:\n",
        "            current = self.head\n",
        "            while current.next:\n",
        "                current = current.next\n",
        "            current.next = new_node\n",
        "            print(f\"Added node with data: {data}\")\n",
        "\n",
        "    def print_list(self):\n",
        "        \"\"\"Print the linked list.\"\"\"\n",
        "        if not self.head:\n",
        "            print(\"The list is empty.\")\n",
        "            return\n",
        "\n",
        "        current = self.head\n",
        "        print(\"Linked List:\", end=\" \")\n",
        "        while current:\n",
        "            print(current.data, end=\" -> \")\n",
        "            current = current.next\n",
        "        print(\"None\")\n",
        "\n",
        "    def delete_nth_node(self, n):\n",
        "        \"\"\"Delete the nth node in the list (1-based index).\"\"\"\n",
        "        if not self.head:\n",
        "            raise Exception(\"Cannot delete from an empty list.\")\n",
        "\n",
        "        if n <= 0:\n",
        "            raise IndexError(\"Index should be a positive integer (1-based).\")\n",
        "\n",
        "        if n == 1:\n",
        "            print(f\"Deleted head node with data: {self.head.data}\")\n",
        "            self.head = self.head.next\n",
        "            return\n",
        "\n",
        "        current = self.head\n",
        "        prev = None\n",
        "        count = 1\n",
        "\n",
        "        while current and count < n:\n",
        "            prev = current\n",
        "            current = current.next\n",
        "            count += 1\n",
        "\n",
        "        if not current:\n",
        "            raise IndexError(\"Index out of range.\")\n",
        "\n",
        "        print(f\"Deleted node at position {n} with data: {current.data}\")\n",
        "        prev.next = current.next\n",
        "\n",
        "\n",
        "# --------------------------\n",
        "# 🔍 Test the LinkedList\n",
        "# --------------------------\n",
        "if __name__ == \"__main__\":\n",
        "    # Create a new linked list\n",
        "    ll = LinkedList()\n",
        "\n",
        "    # Add nodes\n",
        "    ll.add_node(10)\n",
        "    ll.add_node(20)\n",
        "    ll.add_node(30)\n",
        "    ll.add_node(40)\n",
        "\n",
        "    # Print the list\n",
        "    ll.print_list()\n",
        "\n",
        "    # Delete 3rd node (value 30)\n",
        "    ll.delete_nth_node(3)\n",
        "    ll.print_list()\n",
        "\n",
        "    # Try to delete 5th node (out of range)\n",
        "    try:\n",
        "        ll.delete_nth_node(5)\n",
        "    except Exception as e:\n",
        "        print(\"Exception:\", e)\n",
        "\n",
        "    # Try to delete node from empty list\n",
        "    try:\n",
        "        empty_list = LinkedList()\n",
        "        empty_list.delete_nth_node(1)\n",
        "    except Exception as e:\n",
        "        print(\"Exception:\", e)\n"
      ]
    }
  ]
}